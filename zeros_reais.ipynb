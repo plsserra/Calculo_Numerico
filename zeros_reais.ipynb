{
 "cells": [
  {
   "cell_type": "markdown",
   "id": "bace7ad9",
   "metadata": {},
   "source": [
    "# Determinação de Zeros Reais de Funções\n",
    "## Fase I - Isolamento das raízes"
   ]
  },
  {
   "cell_type": "code",
   "execution_count": null,
   "id": "3ebbd8e0",
   "metadata": {},
   "outputs": [],
   "source": [
    "import numpy as np\n",
    "import matplotlib.pyplot as plt\n",
    "%matplotlib inline"
   ]
  },
  {
   "cell_type": "code",
   "execution_count": null,
   "id": "3db7a881",
   "metadata": {},
   "outputs": [],
   "source": [
    "def f(x):\n",
    "    f_x=x**3 - 9*x + 3\n",
    "    return f_x"
   ]
  },
  {
   "cell_type": "code",
   "execution_count": null,
   "id": "b46f2237",
   "metadata": {},
   "outputs": [],
   "source": [
    "def dev_f(x):\n",
    "    dev_fx=3*x**2-9\n",
    "    return dev_fx"
   ]
  },
  {
   "cell_type": "code",
   "execution_count": null,
   "id": "c8348d74",
   "metadata": {},
   "outputs": [],
   "source": [
    "#\n",
    "# xmin ==> valor mínimo de x\n",
    "# xmax ==> valor máximo de x\n",
    "# passo ==> intervalo para cálculo de f(x)\n",
    "#\n",
    "x_min=-6.0\n",
    "x_max=6.0\n",
    "passo = 1.0\n",
    "x=np.arange(x_min,(x_max+passo),passo)\n",
    "print(x)\n",
    "print(type(x))"
   ]
  },
  {
   "cell_type": "code",
   "execution_count": null,
   "id": "9a94f4c9",
   "metadata": {},
   "outputs": [],
   "source": [
    "y=f(x)\n",
    "for i in range(1,len(y)):\n",
    "    if(y[i]*y[i-1] < 0):\n",
    "        print(\"Intervalo com raiz da função ==> (\",x[i-1],\",\",x[i],\")\")\n",
    "print(\"y = \",y)"
   ]
  },
  {
   "cell_type": "code",
   "execution_count": null,
   "id": "7e81fc09",
   "metadata": {},
   "outputs": [],
   "source": [
    "#\n",
    "# Verificação se é raiz única - aplicação do Teorema 2\n",
    "#\n",
    "cont=0\n",
    "d_passo=passo/100\n",
    "x_new_min=float(input(\"Digite o limite mínimo do intervalo:  \"))\n",
    "x_new_max=float(input(\"Digite o limite máximo do intervalo:  \"))\n",
    "x_nex=np.arange(x_new_min,x_new_max,d_passo)\n",
    "y_linha=dev_f(x_nex)\n",
    "for i in range(1,len(y_linha)):\n",
    "    if(y_linha[i-1]*y_linha[i] < 0):\n",
    "        cont=cont+1\n",
    "if cont !=0:\n",
    "    print(\" === > Variação de sinal na derivada da função no intervalo\")\n",
    "    print(\" === > Existem mais raízes reais no intervalo\")\n",
    "else:\n",
    "    print(\" === > O intervalo avaliado contém uma única raiz < === \")"
   ]
  },
  {
   "cell_type": "markdown",
   "id": "d3f919b2",
   "metadata": {},
   "source": [
    "## Fase 1 - Análise Gráfica\n",
    "### Em um caso mais simples e direto, avalia-se graficamente os intervalos em que a função cruza o eixo das abcissas e extrai-se os intervalos para prosseguimento com a aplicação de metodologias de refinamento dos resultados (fase 2)."
   ]
  },
  {
   "cell_type": "code",
   "execution_count": null,
   "id": "b316f5e4",
   "metadata": {},
   "outputs": [],
   "source": [
    "passo = 0.1\n",
    "x=np.arange(x_min,(x_max+passo),passo)\n",
    "y=f(x)\n",
    "plt.figure(figsize=(10,6))\n",
    "plt.plot(x,y)\n",
    "plt.xlabel('x')\n",
    "plt.ylabel('f(x)')\n",
    "plt.title('Isolamentos das raízes da função')\n",
    "plt.grid(True)\n",
    "plt.xticks(np.arange(-6,7,1))\n",
    "plt.show()"
   ]
  },
  {
   "cell_type": "markdown",
   "id": "5194b47b",
   "metadata": {},
   "source": [
    "## Análise gráfica pela segmentação da função f(x) em f(x) = g(x) - h(x)"
   ]
  },
  {
   "cell_type": "code",
   "execution_count": null,
   "id": "0333d430",
   "metadata": {},
   "outputs": [],
   "source": [
    "def g(x):\n",
    "    g_x = x**3\n",
    "    return g_x"
   ]
  },
  {
   "cell_type": "code",
   "execution_count": null,
   "id": "4cea671b",
   "metadata": {},
   "outputs": [],
   "source": [
    "def h(x):\n",
    "    h_x = 9*x - 3\n",
    "    return h_x"
   ]
  },
  {
   "cell_type": "code",
   "execution_count": null,
   "id": "d407ebb9",
   "metadata": {},
   "outputs": [],
   "source": [
    "passo = 0.1\n",
    "x=np.arange(x_min,(x_max+passo),passo)\n",
    "g = g(x)\n",
    "h = h(x)\n",
    "plt.figure(figsize=(10,6))\n",
    "plt.plot(x,g,color='blue')\n",
    "plt.plot(x,h,color='red')\n",
    "plt.xlabel('x')\n",
    "plt.ylabel('g(x) / h(x)')\n",
    "plt.title('Isolamentos das raízes da função')\n",
    "plt.grid(True)\n",
    "plt.xticks(np.arange(-6,7,1))\n",
    "plt.show()"
   ]
  },
  {
   "cell_type": "markdown",
   "id": "6d5d7985",
   "metadata": {},
   "source": [
    "# Fase II: Refinamento\n",
    "## Método da Bissecção ou Dicotomia\n",
    "\n",
    "<h3> A aplicação do método da Bissecção requer a entrada dos valores do intervalo [a,b], <br/>que contenha um único zero e da precisão \"epsilon\" desejada.</h3>"
   ]
  },
  {
   "cell_type": "code",
   "execution_count": null,
   "id": "15ebf7d3",
   "metadata": {},
   "outputs": [],
   "source": [
    "#\n",
    "# Entrada de dados\n",
    "#\n",
    "a = float(input(\"Digite o valor do limite inferior do intervalo que contenha uma raiz real a = \"))\n",
    "b = float(input(\"Digite o valor do limite superior do intervalo que contenha uma raiz real b = \"))\n",
    "epsilon = float(input(\"Digite o valor da precisão desejada epsilon = \"))"
   ]
  },
  {
   "cell_type": "code",
   "execution_count": null,
   "id": "7e60a81d",
   "metadata": {},
   "outputs": [],
   "source": [
    "def bissec (a,b,epsilon):\n",
    "    k_iter=0\n",
    "    M=f(a)\n",
    "    while (b-a) > epsilon:\n",
    "        x=(b+a)/2\n",
    "        if M*f(x) > 0:\n",
    "            a=x\n",
    "        else:\n",
    "            b=x\n",
    "        k_iter+=1\n",
    "    print(\" >>> Solução encontrada com: %4d\"%k_iter,\" iterações\")\n",
    "    return (b+a)/2"
   ]
  },
  {
   "cell_type": "code",
   "execution_count": null,
   "id": "f2b65529",
   "metadata": {},
   "outputs": [],
   "source": [
    "x_apr = bissec(a,b,epsilon)\n",
    "print(\" >>> O valor da raiz de f(x) é: %.5f\"%x_apr)"
   ]
  },
  {
   "cell_type": "markdown",
   "id": "3c633463",
   "metadata": {},
   "source": [
    "## Método de Newton-Rhapson\n",
    "\n",
    "<h3> A aplicação do método de Newton-Raphson requer a entrada de um dos valores do intervalo [a,b]. </h3>\n",
    "<h3> Este método tem uma rápida convergência</h3>"
   ]
  },
  {
   "cell_type": "code",
   "execution_count": null,
   "id": "0d26a4a6",
   "metadata": {},
   "outputs": [],
   "source": [
    "def new_rap(a,b,epsilon):\n",
    "    k_iter=0\n",
    "    x=(a+b)/2\n",
    "    if np.abs(f(x)) < epsilon:\n",
    "        return x\n",
    "    prec=False\n",
    "    while prec == False:\n",
    "        x_proc=x-(f(x)/dev_f(x))\n",
    "        if (np.abs(x_proc-x) < epsilon) or (np.abs(f(x_proc) < epsilon)):\n",
    "            prec = True\n",
    "        else:\n",
    "            x=x_proc\n",
    "        k_iter +=1\n",
    "    print(\" >>> Solução encontrada com: %4d\"%k_iter,\" iterações\")\n",
    "    return x_proc"
   ]
  },
  {
   "cell_type": "code",
   "execution_count": null,
   "id": "e4122857",
   "metadata": {},
   "outputs": [],
   "source": [
    "x_apr = new_rap(a,b,epsilon)\n",
    "print(\" >>> O valor da raiz de f(x) é: %.5f\"%x_apr)"
   ]
  }
 ],
 "metadata": {
  "kernelspec": {
   "display_name": "Python 3",
   "language": "python",
   "name": "python3"
  },
  "language_info": {
   "codemirror_mode": {
    "name": "ipython",
    "version": 3
   },
   "file_extension": ".py",
   "mimetype": "text/x-python",
   "name": "python",
   "nbconvert_exporter": "python",
   "pygments_lexer": "ipython3",
   "version": "3.8.8"
  }
 },
 "nbformat": 4,
 "nbformat_minor": 5
}
